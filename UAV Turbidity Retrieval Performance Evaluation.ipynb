{
 "cells": [
  {
   "cell_type": "markdown",
   "id": "37975bc8",
   "metadata": {},
   "source": [
    "# UAV Turbidity Retrieval Performance Evaluation"
   ]
  },
  {
   "cell_type": "markdown",
   "id": "009b60b6",
   "metadata": {},
   "source": [
    "In paper, Section 3.2.3.3. "
   ]
  },
  {
   "cell_type": "markdown",
   "id": "40b1c22d",
   "metadata": {},
   "source": [
    "# FILTERING THE ORG AND INPAINTED RGB"
   ]
  },
  {
   "cell_type": "code",
   "execution_count": 5,
   "id": "c5e1ebd7",
   "metadata": {},
   "outputs": [
    {
     "name": "stdout",
     "output_type": "stream",
     "text": [
      "Collecting tabulate\n",
      "  Downloading tabulate-0.9.0-py3-none-any.whl (35 kB)\n",
      "Installing collected packages: tabulate\n",
      "Successfully installed tabulate-0.9.0\n"
     ]
    }
   ],
   "source": [
    "!pip install tabulate\n"
   ]
  },
  {
   "cell_type": "code",
   "execution_count": 2,
   "id": "291a9115",
   "metadata": {},
   "outputs": [],
   "source": [
    "import pandas as pd\n",
    "import numpy as np\n",
    "\n",
    "# Load the datasets from CSV files\n",
    "org_data = pd.read_csv('refined_sampling/spectral_info_DSTT_ORG_line10.csv')\n",
    "inpainted_data = pd.read_csv('refined_sampling/spectral_info_DSTT_INPAINTED_line10.csv')\n",
    "\n",
    "# Define a function to check the difference between two values based on a threshold\n",
    "def check_difference(value_org, value_inpainted, threshold):\n",
    "    return abs((value_org - value_inpainted) / value_org) <= threshold\n",
    "\n",
    "# Set thresholds for band differences\n",
    "threshold_band_0 = 0.076  # 4%\n",
    "threshold_band_1 = 0.076  # 3.4%\n",
    "threshold_band_2 = 0.076 # 4.6%\n",
    "\n",
    "# Create an empty DataFrame to store the filtered rows\n",
    "filtered_data = pd.DataFrame(columns=org_data.columns)\n",
    "\n",
    "# Iterate through each row in the ORG dataset and find similar rows in the INPAINTED dataset\n",
    "for org_index, org_row in org_data.iterrows():\n",
    "    org_band_0 = org_row['band_0']\n",
    "    org_band_1 = org_row['band_1']\n",
    "    org_band_2 = org_row['band_2']\n",
    "\n",
    "    # Filter rows in INPAINTED dataset based on band differences\n",
    "    filtered_rows = inpainted_data[\n",
    "        check_difference(org_band_0, inpainted_data['band_0'], threshold_band_0) &\n",
    "        check_difference(org_band_1, inpainted_data['band_1'], threshold_band_1) &\n",
    "        check_difference(org_band_2, inpainted_data['band_2'], threshold_band_2)\n",
    "    ]\n",
    "   \n",
    "   \n",
    "    # If filtered rows are found, append them to the filtered_data DataFrame\n",
    "    if not filtered_rows.empty:\n",
    "        filtered_data = pd.concat([filtered_data, org_row.to_frame().transpose()])\n",
    "\n",
    "# Save the filtered data to a new CSV file\n",
    "filtered_data.to_csv('refined_sampling/DSTT_Line10_filtered_data.csv', index=False)\n",
    "\n",
    "# Identify the observation numbers from org_data that were not extracted\n",
    "not_extracted_observation_numbers = org_data[~org_data['observation_number'].isin(filtered_data['observation_number'])]['observation_number']\n",
    "\n",
    "# Filter rows from inpainted_data based on observation numbers\n",
    "filtered_inpainted_data = inpainted_data[inpainted_data['observation_number'].isin(not_extracted_observation_numbers)]\n",
    "\n",
    "# Filter rows from org_data based on observation numbers\n",
    "filtered_obstructed_data = org_data[org_data['observation_number'].isin(not_extracted_observation_numbers)]\n",
    "\n",
    "# Save the filtered inpainted data to a new CSV file\n",
    "filtered_inpainted_data.to_csv('refined_sampling/DSTT_Line10_filtered_inpainted_data.csv', index=False)\n",
    "\n",
    "# Save the filtered obstructed data to a new CSV file\n",
    "filtered_obstructed_data.to_csv('refined_sampling/DSTT_Line10_filtered_obstructed_data.csv', index=False)\n"
   ]
  },
  {
   "cell_type": "markdown",
   "id": "c2de8914",
   "metadata": {},
   "source": [
    "# REGRESSION MODEL"
   ]
  },
  {
   "cell_type": "code",
   "execution_count": 3,
   "id": "cce1d940",
   "metadata": {
    "scrolled": true
   },
   "outputs": [
    {
     "name": "stdout",
     "output_type": "stream",
     "text": [
      "1.79 5.01\n"
     ]
    },
    {
     "data": {
      "text/plain": [
       "[{'Linear-Log RMSECV': 0.701400876494845,\n",
       "  'Linear-Log R2': 0.469866554426805,\n",
       "  'Adjusted R2': 0.4602}]"
      ]
     },
     "execution_count": 3,
     "metadata": {},
     "output_type": "execute_result"
    }
   ],
   "source": [
    "#Multivariate models \n",
    "from sklearn.preprocessing import PolynomialFeatures\n",
    "import pandas as pd\n",
    "import numpy as np\n",
    "from sklearn.model_selection import cross_val_score\n",
    "from sklearn.linear_model import LinearRegression\n",
    "from sklearn.metrics import make_scorer, r2_score\n",
    "from tabulate import tabulate\n",
    "\n",
    "# Load the filtered data from CSV file\n",
    "filtered_data = pd.read_csv('refined_sampling/DSTT_Line1&Line10_filtered_data.csv').dropna()\n",
    "#filtered_data_l3 = pd.read_csv('refined_sampling/DSTT_Line3_filtered_data.csv').dropna()\n",
    "#filtered_data = pd.concat([filtered_data_l1, filtered_data_l3])\n",
    "filtered_data['R/G'] = filtered_data['band_0'] / filtered_data['band_1']\n",
    "filtered_data['R/B'] = filtered_data['band_0'] / filtered_data['band_2']\n",
    "filtered_data['G/B'] = filtered_data['band_1'] / filtered_data['band_2']\n",
    "\n",
    "X = filtered_data.iloc[:,4:7].values\n",
    "y = filtered_data.iloc[:,1].values\n",
    "\n",
    "# creating a regression model \n",
    "model = LinearRegression()\n",
    "\n",
    "# fitting the model \n",
    "model.fit(X,y)\n",
    "\n",
    "# Calculate R2 and RMSECV\n",
    "multivariate_rmsecv_band = np.sqrt(-cross_val_score(model, X, y, scoring='neg_mean_squared_error', cv=5).mean())\n",
    "# Compute R2\n",
    "r2_multivariate_band = r2_score(y, model.predict(X))\n",
    "\n",
    "results = []\n",
    "# Store the results for individual bands\n",
    "results.append({\n",
    "    'Linear-Log RMSECV': multivariate_rmsecv_band,\n",
    "    'Linear-Log R2': r2_multivariate_band,\n",
    "    'Adjusted R2': round((1-(1-r2_multivariate_band)*(X.shape[0]-1)/(X.shape[0]-X.shape[1]-1)),4)\n",
    "})\n",
    "\n",
    "\n",
    "print(np.min(y), np.max(y))\n",
    "results\n"
   ]
  },
  {
   "cell_type": "code",
   "execution_count": 5,
   "id": "7f62cf35",
   "metadata": {},
   "outputs": [
    {
     "data": {
      "image/png": "[encoded data removed]",
      "text/plain": [
       "<Figure size 360x216 with 1 Axes>"
      ]
     },
     "metadata": {},
     "output_type": "display_data"
    }
   ],
   "source": [
    "from sklearn.metrics import mean_squared_error, r2_score, mean_absolute_error, mean_absolute_percentage_error\n",
    "import matplotlib.pyplot as plt\n",
    "#Apply multivariate model to inpainted data\n",
    "# Load the inpainted data from CSV file\n",
    "inpainted_data = pd.read_csv('refined_sampling/DSTT_Line1_filtered_inpainted_data.csv').dropna()\n",
    "#inpainted_data_l3 = pd.read_csv('refined_sampling/DIP_Line3_filtered_inpainted_data.csv').dropna()\n",
    "#inpainted_data = pd.concat([inpainted_data_l1, inpainted_data_l3])\n",
    "inpainted_data['R/G'] = inpainted_data['band_0'] / inpainted_data['band_1']\n",
    "inpainted_data['R/B'] = inpainted_data['band_0'] / inpainted_data['band_2']\n",
    "inpainted_data['G/B'] = inpainted_data['band_1'] / inpainted_data['band_2']\n",
    "\n",
    "X_inp= inpainted_data.iloc[:,4:7].values\n",
    "\n",
    "y_obs = inpainted_data['turbidity'].values\n",
    "y_pred = model.predict(X_inp)\n",
    "\n",
    "r2_multivariate_band_inpainted = r2_score(y_obs, y_pred)\n",
    "\n",
    "#Plot R2 graph\n",
    "z = np.polyfit(y_obs.astype('float'), y_pred,1)\n",
    "with plt.style.context(('ggplot')):\n",
    "    fig, ax = plt.subplots(figsize=(5,3))\n",
    "    ax.scatter(y_obs, y_pred, c='red', edgecolor='k')\n",
    "    ax.plot(y_obs, z[1] + z[0] * y_obs, c='blue', linewidth=1)\n",
    "    ax.plot(y_obs, y_obs, color='green', linewidth=1)\n",
    "    plt.title('$R^{2}$: ' + str(round(r2_score(y_obs, y_pred),3))\n",
    "               + '    RMSE: ' + str(round(np.sqrt(mean_squared_error(y_obs, y_pred)), 3))\n",
    "               + '    MAE: ' + str(round(mean_absolute_error(y_obs, y_pred),3)))\n",
    "    plt.xlabel('Measured TSS')\n",
    "    plt.ylabel('Predicted TSS')\n",
    "plt.show()\n",
    "#print(r2_multivariate_band_inpainted)\n",
    "#print(y_obs, y_pred)\n"
   ]
  }
 ],
 "metadata": {
  "kernelspec": {
   "display_name": "Python 3",
   "language": "python",
   "name": "python3"
  },
  "language_info": {
   "codemirror_mode": {
    "name": "ipython",
    "version": 3
   },
   "file_extension": ".py",
   "mimetype": "text/x-python",
   "name": "python",
   "nbconvert_exporter": "python",
   "pygments_lexer": "ipython3",
   "version": "3.8.8"
  }
 },
 "nbformat": 4,
 "nbformat_minor": 5
}
