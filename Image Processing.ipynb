{
 "cells": [
  {
   "cell_type": "markdown",
   "id": "432091a8",
   "metadata": {},
   "source": [
    "# Image Processing for input&outputs of datasets to DSTT and DIP model"
   ]
  },
  {
   "cell_type": "markdown",
   "id": "ccd3be88",
   "metadata": {},
   "source": [
    "# Compile data of SAR images to excel"
   ]
  },
  {
   "cell_type": "markdown",
   "id": "cbcc3f07",
   "metadata": {},
   "source": [
    "To match the buoy data date and time to image index"
   ]
  },
  {
   "cell_type": "code",
   "execution_count": 1,
   "id": "0b10be7c",
   "metadata": {},
   "outputs": [
    {
     "name": "stdout",
     "output_type": "stream",
     "text": [
      "Requirement already satisfied: openpyxl in c:\\users\\szeern\\anaconda3\\lib\\site-packages (3.0.7)\n",
      "Requirement already satisfied: et-xmlfile in c:\\users\\szeern\\anaconda3\\lib\\site-packages (from openpyxl) (1.0.1)\n",
      "Note: you may need to restart the kernel to use updated packages.\n"
     ]
    }
   ],
   "source": [
    "pip install openpyxl"
   ]
  },
  {
   "cell_type": "code",
   "execution_count": 1,
   "id": "16d1520d",
   "metadata": {},
   "outputs": [
    {
     "name": "stdout",
     "output_type": "stream",
     "text": [
      "Image names have been saved to FLORIDA_2019_FILTERED.xlsx in ./FLORIDA COAST 2021 data\n"
     ]
    }
   ],
   "source": [
    "import os\n",
    "from openpyxl import Workbook\n",
    "\n",
    "# Directory containing the images\n",
    "image_dir = \"./FLORIDA COAST 2021 data\"\n",
    "\n",
    "# Create a new Excel workbook\n",
    "wb = Workbook()\n",
    "\n",
    "# Select the active worksheet\n",
    "ws = wb.active\n",
    "\n",
    "# Add a header\n",
    "ws.append([\"Image Names\"])\n",
    "\n",
    "# List all files in the directory\n",
    "files = os.listdir(image_dir)\n",
    "\n",
    "# Iterate through the files and add image names to the worksheet\n",
    "for file in files:\n",
    "    # Check if the file is an image (you might want to add more checks if needed)\n",
    "    if file.endswith(\".jpg\") or file.endswith(\".jpeg\") or file.endswith(\".png\"):\n",
    "        ws.append([file])\n",
    "\n",
    "# Save the workbook\n",
    "excel_filename = \"FLORIDA_2019_FILTERED.xlsx\"\n",
    "wb.save(os.path.join(image_dir, excel_filename))\n",
    "\n",
    "print(f\"Image names have been saved to {excel_filename} in {image_dir}\")\n"
   ]
  },
  {
   "cell_type": "markdown",
   "id": "ca5d485c",
   "metadata": {},
   "source": [
    "# Renaming to format XXXXX.png"
   ]
  },
  {
   "cell_type": "markdown",
   "id": "4772b800",
   "metadata": {},
   "source": [
    "Rename for all annotations and orginal image, DSTT and DIP runs the inpainting for each frame by matching the same image index"
   ]
  },
  {
   "cell_type": "code",
   "execution_count": 1,
   "id": "dc85ea6c",
   "metadata": {},
   "outputs": [
    {
     "name": "stdout",
     "output_type": "stream",
     "text": [
      "Renaming complete.\n"
     ]
    }
   ],
   "source": [
    "import os\n",
    "\n",
    "folder_path = \"./INPAINTED_DIP_2021\"  # Replace with the path to your folder\n",
    "counter = 0\n",
    "\n",
    "# List all files in the folder\n",
    "files = os.listdir(folder_path)\n",
    "\n",
    "# Filter only JPEG files (assuming case-insensitive matching)\n",
    "jpeg_files = [file for file in files if file.lower().endswith(\".png\")]\n",
    "\n",
    "# Sort the list of JPEG files for consistent numbering\n",
    "jpeg_files.sort()\n",
    "\n",
    "# Iterate through the JPEG files and rename them\n",
    "for filename in jpeg_files:\n",
    "    # Create the new filename with leading zeros\n",
    "    new_filename = f\"{counter:05d}.png\"\n",
    "\n",
    "    # Build the full path for the old and new filenames\n",
    "    old_filepath = os.path.join(folder_path, filename)\n",
    "    new_filepath = os.path.join(folder_path, new_filename)\n",
    "\n",
    "    # Rename the file\n",
    "    os.rename(old_filepath, new_filepath)\n",
    "\n",
    "    counter += 1\n",
    "\n",
    "print(\"Renaming complete.\")"
   ]
  },
  {
   "cell_type": "markdown",
   "id": "f3e67956",
   "metadata": {},
   "source": [
    "# Rotation of Image (-90)"
   ]
  },
  {
   "cell_type": "markdown",
   "id": "474ba6ca",
   "metadata": {},
   "source": [
    "Rotation of SAR images needed to fit into model of DSTT and DIP; Change line 24 degrees to rotate back for wave paramater retrieval"
   ]
  },
  {
   "cell_type": "code",
   "execution_count": 2,
   "id": "018d0dd3",
   "metadata": {},
   "outputs": [
    {
     "name": "stdout",
     "output_type": "stream",
     "text": [
      "Rotation completed!\n"
     ]
    }
   ],
   "source": [
    "from PIL import Image\n",
    "import os\n",
    "\n",
    "# Directory containing your images\n",
    "input_dir = \"./FLORIDA COAST 2021 data\"\n",
    "\n",
    "# Directory to save rotated images\n",
    "output_dir = \"./FLORIDA COAST 2021 data(rotated)\"\n",
    "\n",
    "# Ensure the output directory exists, if not create it\n",
    "if not os.path.exists(output_dir):\n",
    "    os.makedirs(output_dir)\n",
    "\n",
    "# List all files in the input directory\n",
    "files = os.listdir(input_dir)\n",
    "\n",
    "for file in files:\n",
    "    # Check if the file is an image (you might want to add more checks if needed)\n",
    "    if file.endswith(\".jpg\") or file.endswith(\".png\") or file.endswith(\".jpeg\"):\n",
    "        # Open the image file\n",
    "        img = Image.open(os.path.join(input_dir, file))\n",
    "        \n",
    "        # Rotate the image by -90 degrees\n",
    "        rotated_img = img.transpose(Image.ROTATE_270)\n",
    "        \n",
    "        # Save the rotated image to the output directory\n",
    "        rotated_img.save(os.path.join(output_dir, file))\n",
    "\n",
    "print(\"Rotation completed!\")\n"
   ]
  },
  {
   "cell_type": "markdown",
   "id": "5f90d117",
   "metadata": {},
   "source": [
    "# Create Synthetic Vessel SAR Image"
   ]
  },
  {
   "cell_type": "code",
   "execution_count": 8,
   "id": "fe4f3af9",
   "metadata": {},
   "outputs": [
    {
     "name": "stdout",
     "output_type": "stream",
     "text": [
      "Combining images completed!\n"
     ]
    }
   ],
   "source": [
    "from PIL import Image\n",
    "import os\n",
    "\n",
    "# Directory containing JPG images\n",
    "jpg_dir = \"./FLORIDA COAST 2021 data(rotated)\"\n",
    "\n",
    "# Directory containing PNG images\n",
    "png_dir = \"./SINGAPORE 2021 ships layer\"\n",
    "\n",
    "# Directory to save combined images\n",
    "output_dir = \"./ORG_2021\"\n",
    "\n",
    "# Ensure the output directory exists, if not create it\n",
    "if not os.path.exists(output_dir):\n",
    "    os.makedirs(output_dir)\n",
    "\n",
    "# List all JPG files in the JPG directory\n",
    "jpg_files = os.listdir(jpg_dir)\n",
    "\n",
    "# List all PNG files in the PNG directory\n",
    "png_files = os.listdir(png_dir)\n",
    "\n",
    "# Iterate over JPG files\n",
    "for jpg_file in jpg_files:\n",
    "    # Check if the file is a JPG image\n",
    "    if jpg_file.endswith(\".jpg\") or jpg_file.endswith(\".jpeg\"):\n",
    "        # Open the JPG image\n",
    "        jpg_img = Image.open(os.path.join(jpg_dir, jpg_file))\n",
    "        \n",
    "        # Find corresponding PNG file\n",
    "        corresponding_png = jpg_file.replace(\".jpg\", \".png\")\n",
    "        if corresponding_png in png_files:\n",
    "            # Open the PNG image\n",
    "            png_img = Image.open(os.path.join(png_dir, corresponding_png))\n",
    "            \n",
    "            # Ensure PNG image has the same dimensions as the JPG image\n",
    "            if jpg_img.size == png_img.size:\n",
    "                # Create a new image with the JPG image as the background\n",
    "                combined_img = jpg_img.copy()\n",
    "                \n",
    "                # Paste the PNG image onto the JPG image\n",
    "                combined_img.paste(png_img, (0, 0), png_img)\n",
    "                \n",
    "                # Save the combined image\n",
    "                combined_img.save(os.path.join(output_dir, jpg_file))\n",
    "            else:\n",
    "                print(f\"Dimensions mismatch for {jpg_file} and {corresponding_png}. Skipping...\")\n",
    "        else:\n",
    "            print(f\"No corresponding PNG found for {jpg_file}. Skipping...\")\n",
    "\n",
    "print(\"Combining images completed!\")\n"
   ]
  },
  {
   "cell_type": "markdown",
   "id": "4c8dd848",
   "metadata": {},
   "source": [
    "# Cropping image for DSTT and DIP"
   ]
  },
  {
   "cell_type": "markdown",
   "id": "f2744b3c",
   "metadata": {},
   "source": [
    "For UAV Images:\n",
    "\n",
    "DSTT - 1245x692\n",
    "\n",
    "DIP - 1216x896\n",
    "\n",
    "For SAR Images:\n",
    "\n",
    "DSTT - 432x240\n",
    "\n",
    "DIP - 448x256 (remain)"
   ]
  },
  {
   "cell_type": "code",
   "execution_count": 12,
   "id": "d1089ba0",
   "metadata": {
    "scrolled": true
   },
   "outputs": [
    {
     "name": "stdout",
     "output_type": "stream",
     "text": [
      "Cropping completed. Cropped images saved in the output directory.\n"
     ]
    }
   ],
   "source": [
    "from PIL import Image\n",
    "import os\n",
    "\n",
    "# Define the directory where your JPEG images are located\n",
    "input_directory = './FLORIDA COAST 2021 data(rotated)'\n",
    "\n",
    "# Define the directory where you want to save the cropped images\n",
    "output_directory = './GROUNDTRUTH_DSTT_2021'\n",
    "\n",
    "# Make sure the output directory exists\n",
    "if not os.path.exists(output_directory):\n",
    "    os.makedirs(output_directory)\n",
    "\n",
    "# List all the files in the input directory\n",
    "input_files = os.listdir(input_directory)\n",
    "\n",
    "for file_name in input_files:\n",
    "    if file_name.endswith('.jpg') or file_name.endswith('.jpeg') or file_name.endswith('.png'):\n",
    "        # Open the image\n",
    "        image = Image.open(os.path.join(input_directory, file_name))\n",
    "\n",
    "        # Get the dimensions of the image\n",
    "        width, height = image.size\n",
    "\n",
    "        # Crop the image\n",
    "        #cropped_image = image.crop((0, 0, width, height - 208)) #1245x692\n",
    "        #cropped_image = image.crop((14.5, 0, width-14.5, height-4)) #1216x896\n",
    "        cropped_image = image.crop((0, 0, width-16, height - 16))  #for 432x240\n",
    "\n",
    "        # Save the cropped image to the output directory\n",
    "        cropped_image.save(os.path.join(output_directory, file_name))\n",
    "\n",
    "        # Close the image\n",
    "        image.close()\n",
    "\n",
    "print(\"Cropping completed. Cropped images saved in the output directory.\")\n"
   ]
  },
  {
   "cell_type": "markdown",
   "id": "48680367",
   "metadata": {},
   "source": [
    "# Convert mask annotations to black/white from red/black for DIP"
   ]
  },
  {
   "cell_type": "markdown",
   "id": "e488994a",
   "metadata": {},
   "source": [
    "DSTT uses red as annotation for inpainted area and black as background\n",
    "\n",
    "DIP uses black as annotation for inpainted area and white as background"
   ]
  },
  {
   "cell_type": "code",
   "execution_count": 13,
   "id": "8761cdfb",
   "metadata": {},
   "outputs": [
    {
     "name": "stdout",
     "output_type": "stream",
     "text": [
      "Conversion complete.\n"
     ]
    }
   ],
   "source": [
    "from PIL import Image\n",
    "import numpy as np\n",
    "import os\n",
    "\n",
    "def convert_image_colors(image_path):\n",
    "    # Open the image\n",
    "    image = Image.open(image_path)\n",
    "\n",
    "    # Convert the image to a NumPy array for easier manipulation\n",
    "    image_array = np.array(image)\n",
    "\n",
    "    # Identify black pixels and convert to white\n",
    "    black_pixels = np.all(image_array == [0, 0, 0], axis=-1)\n",
    "    image_array[black_pixels] = [255, 255, 255]\n",
    "\n",
    "    # Identify non-white pixels and convert to black\n",
    "    non_white_pixels = ~np.all(image_array == [255, 255, 255], axis=-1)\n",
    "    image_array[non_white_pixels] = [0, 0, 0]\n",
    "\n",
    "    # Convert the NumPy array back to an image\n",
    "    modified_image = Image.fromarray(image_array)\n",
    "\n",
    "    return modified_image\n",
    "\n",
    "if __name__ == \"__main__\":\n",
    "    input_folder_path = \"./ANNOTATIONS_DIP_2021\"\n",
    "    output_folder_path = \"./ANNOTATIONS_DIP_2021\"\n",
    "\n",
    "    # Create the output folder if it doesn't exist\n",
    "    if not os.path.exists(output_folder_path):\n",
    "        os.makedirs(output_folder_path)\n",
    "\n",
    "    # Process all images in the input folder\n",
    "    for filename in os.listdir(input_folder_path):\n",
    "        if filename.lower().endswith(('.png', '.jpg', '.jpeg', '.gif', '.bmp')):\n",
    "            input_file_path = os.path.join(input_folder_path, filename)\n",
    "\n",
    "            # Convert the image colors\n",
    "            modified_image = convert_image_colors(input_file_path)\n",
    "\n",
    "            # Save the modified image to the output folder\n",
    "            output_file_path = os.path.join(output_folder_path, f\"{filename}\")\n",
    "            modified_image.save(output_file_path)\n",
    "\n",
    "    print(\"Conversion complete.\")\n"
   ]
  },
  {
   "cell_type": "markdown",
   "id": "62305398",
   "metadata": {},
   "source": [
    "# Extracting .png frames from mp4. (DSTT)"
   ]
  },
  {
   "cell_type": "markdown",
   "id": "65b5d67c",
   "metadata": {},
   "source": [
    "DSTT outputs as mp4., extract the frames back as .png to run analysis"
   ]
  },
  {
   "cell_type": "code",
   "execution_count": null,
   "id": "dd112601",
   "metadata": {},
   "outputs": [],
   "source": [
    "import cv2\n",
    "import os\n",
    "\n",
    "def save_all_frames(video_path, dir_path, basename, ext='jpg'):\n",
    "    \n",
    "    cap = cv2.VideoCapture(video_path)\n",
    "\n",
    "    if not cap.isOpened():\n",
    "        return\n",
    "\n",
    "    os.makedirs(dir_path, exist_ok=True)\n",
    "    base_path = os.path.join(dir_path, basename)\n",
    "\n",
    "    digit = len(str(int(cap.get(cv2.CAP_PROP_FRAME_COUNT))))\n",
    "\n",
    "    n = 0\n",
    "\n",
    "    while True:\n",
    "        ret, frame = cap.read()\n",
    "        if ret:\n",
    "            cv2.imwrite('{}_{}.{}'.format(base_path, str(n).zfill(digit), ext), frame)\n",
    "            n += 1\n",
    "        else:\n",
    "            return\n",
    "\n",
    "#file path, output location, label\n",
    "save_all_frames('checkpoints_dstt_LOCATION_result.mp4', 'output/checkpoints_dstt_LOCATION_result', 'frame')"
   ]
  }
 ],
 "metadata": {
  "kernelspec": {
   "display_name": "Python 3",
   "language": "python",
   "name": "python3"
  },
  "language_info": {
   "codemirror_mode": {
    "name": "ipython",
    "version": 3
   },
   "file_extension": ".py",
   "mimetype": "text/x-python",
   "name": "python",
   "nbconvert_exporter": "python",
   "pygments_lexer": "ipython3",
   "version": "3.8.8"
  }
 },
 "nbformat": 4,
 "nbformat_minor": 5
}
